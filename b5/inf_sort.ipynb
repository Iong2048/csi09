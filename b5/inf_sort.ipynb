{
 "cells": [
  {
   "cell_type": "code",
   "execution_count": null,
   "metadata": {},
   "outputs": [],
   "source": [
    "def insertion_sort(num_list):\n",
    "    if len(num_list) <= 1:\n",
    "        return num_list\n",
    "    for i in range(1, len(num_list)):\n",
    "        key = num_list[i]\n",
    "        j = i - 1\n",
    "        while j >= 0 and key < num_list[j]:\n",
    "            num_list[j + 1] = num_list[j]\n",
    "            j -= 1\n",
    "        num_list[j + 1] = key\n",
    "    return num_list"
   ]
  },
  {
   "cell_type": "code",
   "execution_count": null,
   "metadata": {},
   "outputs": [],
   "source": [
    "insertion_sort(num_list=number_list)\n"
   ]
  },
  {
   "cell_type": "code",
   "execution_count": null,
   "metadata": {},
   "outputs": [],
   "source": []
  }
 ],
 "metadata": {
  "language_info": {
   "name": "python"
  }
 },
 "nbformat": 4,
 "nbformat_minor": 2
}
