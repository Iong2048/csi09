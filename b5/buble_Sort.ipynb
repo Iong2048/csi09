{
 "cells": [
  {
   "cell_type": "code",
   "execution_count": null,
   "metadata": {},
   "outputs": [],
   "source": [
    "number_list = [5, 9, 1, 12, 30, 35, 75, 10, 15, 20, 4, 0, 20, 0, 20, 3, 6, 14]"
   ]
  },
  {
   "cell_type": "code",
   "execution_count": 3,
   "metadata": {},
   "outputs": [],
   "source": [
    "def bubble_sort(num_list):\n",
    "    if len(num_list) <= 1:\n",
    "        return num_list\n",
    "    for i in range(len(num_list) - 1, 0, -1):\n",
    "        for j in range(i):\n",
    "            if num_list[j] > num_list[j + 1]:\n",
    "                num_list[j], num_list[j + 1] = num_list[j + 1], num_list[j]\n",
    "    return num_list"
   ]
  },
  {
   "cell_type": "code",
   "execution_count": 4,
   "metadata": {},
   "outputs": [
    {
     "ename": "NameError",
     "evalue": "name 'number_list' is not defined",
     "output_type": "error",
     "traceback": [
      "\u001b[1;31m---------------------------------------------------------------------------\u001b[0m",
      "\u001b[1;31mNameError\u001b[0m                                 Traceback (most recent call last)",
      "Cell \u001b[1;32mIn[4], line 4\u001b[0m\n\u001b[0;32m      1\u001b[0m \u001b[38;5;66;03m# test ----\u001b[39;00m\n\u001b[0;32m      2\u001b[0m \u001b[38;5;66;03m#  time complex: O(n^2)\u001b[39;00m\n\u001b[0;32m      3\u001b[0m \u001b[38;5;66;03m# space: O(n)\u001b[39;00m\n\u001b[1;32m----> 4\u001b[0m bubble_sort(\u001b[43mnumber_list\u001b[49m)\n",
      "\u001b[1;31mNameError\u001b[0m: name 'number_list' is not defined"
     ]
    }
   ],
   "source": [
    "# test ----\n",
    "#  time complex: O(n^2)\n",
    "# space: O(n)\n",
    "bubble_sort(number_list)"
   ]
  },
  {
   "cell_type": "code",
   "execution_count": null,
   "metadata": {},
   "outputs": [],
   "source": []
  }
 ],
 "metadata": {
  "kernelspec": {
   "display_name": "Python 3",
   "language": "python",
   "name": "python3"
  },
  "language_info": {
   "codemirror_mode": {
    "name": "ipython",
    "version": 3
   },
   "file_extension": ".py",
   "mimetype": "text/x-python",
   "name": "python",
   "nbconvert_exporter": "python",
   "pygments_lexer": "ipython3",
   "version": "3.12.2"
  }
 },
 "nbformat": 4,
 "nbformat_minor": 2
}
