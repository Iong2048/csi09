{
 "cells": [
  {
   "cell_type": "code",
   "execution_count": null,
   "metadata": {},
   "outputs": [],
   "source": [
    "number_list = [5, 9, 1, 12, 30, 35, 75, 10, 15, 20, 4, 0, 20, 0, 20, 3, 6, 14]"
   ]
  },
  {
   "cell_type": "code",
   "execution_count": null,
   "metadata": {},
   "outputs": [],
   "source": [
    "def bubble_sort(num_list):\n",
    "    if len(num_list) <= 1:\n",
    "        return num_list\n",
    "    for i in range(len(num_list) - 1, 0, -1):\n",
    "        for j in range(i):\n",
    "            if num_list[j] > num_list[j + 1]:\n",
    "                num_list[j], num_list[j + 1] = num_list[j + 1], num_list[j]\n",
    "    return num_list"
   ]
  },
  {
   "cell_type": "code",
   "execution_count": null,
   "metadata": {},
   "outputs": [],
   "source": [
    "# test ----\n",
    "#  time complex: O(n^2)\n",
    "# space: O(n)\n",
    "bubble_sort(number_list)"
   ]
  }
 ],
 "metadata": {
  "language_info": {
   "name": "python"
  }
 },
 "nbformat": 4,
 "nbformat_minor": 2
}
