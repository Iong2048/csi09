{
 "cells": [
  {
   "cell_type": "markdown",
   "metadata": {
    "id": "Ty4Nx5hp1m69"
   },
   "source": [
    "## <center>Computer Science Intensive Course - MindX</center>\n",
    "![](./assets/logo.png)\n",
    "# <center>LAB 4. THUẬT TOÁN TÌM KIẾM</center>"
   ]
  },
  {
   "cell_type": "markdown",
   "metadata": {},
   "source": [
    "## Trắc nghiệm"
   ]
  },
  {
   "cell_type": "markdown",
   "metadata": {},
   "source": [
    "1. B\n",
    "2. D\n",
    "3. D\n",
    "4. C\n",
    "5. D"
   ]
  },
  {
   "cell_type": "markdown",
   "metadata": {
    "id": "Y0ImotcV1m7E"
   },
   "source": [
    "## Bài 1. Đếm Từ\n",
    "\n",
    "Cho một đoạn văn gồm nhiều từ và dấu câu, mỗi từ trong đoạn văn cách nhau bằng ít nhất một dấu cách. Đếm tần suất xuất hiện của một từ trong đoạn văn đó (không phân biệt chữ hoa và thường).\n",
    "\n",
    "**Input**: Một đoạn văn dưới dạng *str* với độ dài < 10^6 ký tự và một từ.  \n",
    "**Output**: Tần suất xuất hiện của từ đã cho trong đoạn văn.  \n",
    "**Ví dụ**:\n",
    "- Input: \"The cat is chasing the rat in Netherlands. The dog is also chasing the rat.\", \"the\"\n",
    "- Output: 4\n",
    "- Giải thích: Từ \"the\" xuất hiện 4 lần, không phân biệt chữ hoa và thường.\n",
    "  \n",
    "**Gợi ý**: Kiểm tra một ký tự có nằm trong bảng chữ cái không:"
   ]
  },
  {
   "cell_type": "code",
   "execution_count": 2,
   "metadata": {
    "id": "UZxBUFlX1m7F",
    "outputId": "d427f6a1-d75f-4d20-f522-adab54c0b429"
   },
   "outputs": [
    {
     "name": "stdout",
     "output_type": "stream",
     "text": [
      "4\n"
     ]
    }
   ],
   "source": [
    "def count_word_frequency(text, word):\n",
    "    text = text.lower()\n",
    "    word = word.lower()\n",
    "    \n",
    "    words_list = text.split()\n",
    "    \n",
    "    count = words_list.count(word)\n",
    "    \n",
    "    return count\n",
    "\n",
    "inputtext = \"The cat is chasing the rat in Netherlands. The dog is also chasing the rat.\"\n",
    "searchword = \"the\"\n",
    "kq = count_word_frequency(inputtext, searchword)\n",
    "print(kq) "
   ]
  },
  {
   "cell_type": "markdown",
   "metadata": {
    "id": "osTbWSup1m7I"
   },
   "source": [
    "## Bài 2. Rút Gọn Phân Số\n",
    "\n",
    "**Input**: Một phân số a/b với 0 < a, b < 10^9 là số nguyên.  \n",
    "**Output**: Phân số a/b sau khi đã rút gọn.  \n",
    "**Ví dụ**:  \n",
    "Ví dụ 1:\n",
    "- Input: a = 20, b = 4\n",
    "- Output: a = 5, b = 1  \n",
    "\n",
    "Ví dụ 2:\n",
    "- Input: a = 7, b = 20\n",
    "- Output: a = 7, b = 20"
   ]
  },
  {
   "cell_type": "code",
   "execution_count": 5,
   "metadata": {
    "id": "My8zFDIL1m7I"
   },
   "outputs": [
    {
     "name": "stdout",
     "output_type": "stream",
     "text": [
      "Output: a = 5 , b = 1\n",
      "Output: a = 7 , b = 20\n"
     ]
    }
   ],
   "source": [
    "import math\n",
    "\n",
    "def rutgon_fraction(a, b):\n",
    "    ucln = math.gcd(a, b)\n",
    "    \n",
    "    a_rutgon = a // ucln\n",
    "    b_rutgon = b // ucln\n",
    "    \n",
    "    return a_rutgon, b_rutgon\n",
    "\n",
    "a = 20\n",
    "b = 4\n",
    "rutgon_a, rutgon_b = rutgon_fraction(a, b)\n",
    "print(\"Output: a =\", rutgon_a, \", b =\", rutgon_b)  # Output: a = 5 , b = 1\n",
    "\n",
    "a = 7\n",
    "b = 20\n",
    "rutgon_a, rutgon_b = rutgon_fraction(a, b)\n",
    "print(\"Output: a =\", rutgon_a, \", b =\", rutgon_b)  # Output: a = 7 , b = 20\n"
   ]
  },
  {
   "cell_type": "code",
   "execution_count": null,
   "metadata": {},
   "outputs": [],
   "source": []
  }
 ],
 "metadata": {
  "colab": {
   "provenance": []
  },
  "kernelspec": {
   "display_name": "Python 3",
   "language": "python",
   "name": "python3"
  },
  "language_info": {
   "codemirror_mode": {
    "name": "ipython",
    "version": 3
   },
   "file_extension": ".py",
   "mimetype": "text/x-python",
   "name": "python",
   "nbconvert_exporter": "python",
   "pygments_lexer": "ipython3",
   "version": "3.12.2"
  }
 },
 "nbformat": 4,
 "nbformat_minor": 0
}
